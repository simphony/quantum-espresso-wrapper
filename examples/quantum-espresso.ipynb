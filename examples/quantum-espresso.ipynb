{
 "metadata": {
  "language_info": {
   "codemirror_mode": {
    "name": "ipython",
    "version": 3
   },
   "file_extension": ".py",
   "mimetype": "text/x-python",
   "name": "python",
   "nbconvert_exporter": "python",
   "pygments_lexer": "ipython3",
   "version": "3.8.2-final"
  },
  "orig_nbformat": 2,
  "kernelspec": {
   "name": "python_defaultSpec_1597403599358",
   "display_name": "Python 3.8.2 64-bit"
  }
 },
 "nbformat": 4,
 "nbformat_minor": 2,
 "cells": [
  {
   "cell_type": "markdown",
   "metadata": {},
   "source": [
    "# Tutorial 06: Quantum Espresso Wrapper\n",
    "In this tutorial we will go through a simple example of how to use the wrapper for the Quantum Espresso simulation engine. You can find the wrapper [here](https://github.com/simphony/quantum-espresso-wrapper).\n",
    "## Background\n",
    "This is an example of a slightly different design based upon the input-output functionality of certain simulation engines such as Quantum Espresso and Gromacs.\n"
   ]
  },
  {
   "cell_type": "markdown",
   "metadata": {},
   "source": [
    "## Let's get hands-on\n",
    "### Installation\n",
    "To run the local installation of Quantum Espresso, simply run `./install_engine.sh`. This should check for the prerequisites and compile the code for Quantum Espresso for you.\n",
    "\n",
    "If the script runs into an error finding openmpi-bin or something like that, try running `apt-get update` and try again. \n",
    "Once the installation has completed, try running `pw.x` to see if the installation has succeeded. If this does not work, then try adding `export PATH=$PATH:/home/username/qe-6.5/bin/` at the end of `.bashrc` located at your home folder.  \n",
    "  \n",
    "Once you have verified that `pw.x` works, install the ontology via `pico install ontology.simlammps.yml`, and make sure to run `python3 setup.py` located in the root of the quantum espresso wrapper folder.   \n",
    "\n",
    "Note that the installation of the ontology requires version 3.4.0 of osp-core to be installed (see [dev branch](https://github.com/simphony/osp-core/tree/v3.4.0-dev))\n",
    "\n",
    "That should be all needed to use Quantum Espresso!\n",
    "\n",
    "### Simple example\n",
    "\n",
    "This is an adaptation of quantum-espresso-wrapper/examples/Simple.py. As usual, we need to import the necessary components:"
   ]
  },
  {
   "cell_type": "code",
   "execution_count": 1,
   "metadata": {},
   "outputs": [],
   "source": [
    "import numpy as np \n",
    "\n",
    "from osp.core.namespaces import QE\n",
    "from osp.core.utils import pretty_print\n",
    "from osp.wrappers.quantumespresso.qe_session import qeSession"
   ]
  },
  {
   "cell_type": "markdown",
   "metadata": {},
   "source": [
    "Next, we create simulation and its K points, which determine at what points it samples the cell"
   ]
  },
  {
   "cell_type": "code",
   "execution_count": 2,
   "metadata": {},
   "outputs": [],
   "source": [
    "sim = QE.Simulation()\n",
    "k = QE.K_POINTS(vector6 = (7, 7, 7, 0, 0, 0), unit = \"\")\n"
   ]
  },
  {
   "cell_type": "markdown",
   "metadata": {},
   "source": [
    "Next, we create a cell, the element Silicon, a pseudopotential, an atom and the cell parameters. Note that the pseudopotential files should ALWAYS be located inside of a folder named `$PSEUDO_DIR` inside of wherever you are running the simulation."
   ]
  },
  {
   "cell_type": "code",
   "execution_count": 3,
   "metadata": {},
   "outputs": [],
   "source": [
    "SiCell = QE.Cell()\n",
    "Si = QE.Element(name = \"Si\")\n",
    "SiPseudo = QE.PSEUDOPOTENTIAL(name = \"Si.pbe-n-kjpaw_psl.1.0.0.UPF\")\n",
    "Si1 = QE.Atom()\n",
    "SiParams = QE.CellParams()\n",
    "celldm1 = QE.Celldm1(value = 5.43070, unit = \"au\")"
   ]
  },
  {
   "cell_type": "markdown",
   "metadata": {},
   "source": [
    "Next, we connect these all to each other using the `add` method."
   ]
  },
  {
   "cell_type": "code",
   "execution_count": 4,
   "metadata": {},
   "outputs": [
    {
     "output_type": "execute_result",
     "data": {
      "text/plain": "<qe.Celldm1: e076d0c6-8934-4d96-aeea-546b83e26c89,  CoreSession: @0x7f83fd5f7340>"
     },
     "metadata": {},
     "execution_count": 4
    }
   ],
   "source": [
    "Si.add(SiPseudo, Si1)\n",
    "Si.add(QE.Mass(value = 28.085, unit = \"amu\"))\n",
    "SiCell.add(Si1, SiParams)\n",
    "Si1.add(QE.Position(vector = (0, 0, 0), unit = \"\"))\n",
    "SiCell.add(celldm1)"
   ]
  },
  {
   "cell_type": "markdown",
   "metadata": {},
   "source": [
    "We specify the cell parameters:"
   ]
  },
  {
   "cell_type": "code",
   "execution_count": 5,
   "metadata": {},
   "outputs": [
    {
     "output_type": "execute_result",
     "data": {
      "text/plain": "[<qe.CellParameterX: 3ec36c5e-4c46-4823-9667-f1dc5a610520,  CoreSession: @0x7f83fd5f7340>,\n <qe.CellParameterY: 2f393d38-a72d-452b-800f-c1f8ce11482a,  CoreSession: @0x7f83fd5f7340>,\n <qe.CellParameterZ: 7059b956-4c70-4c9e-8434-a8d57c08cbe2,  CoreSession: @0x7f83fd5f7340>]"
     },
     "metadata": {},
     "execution_count": 5
    }
   ],
   "source": [
    "SiParams.add(QE.CellParameterX(vector = (0.5, 0.5, 0), unit = \"\"),\n",
    "             QE.CellParameterY(vector = (0.5, 0, 0.5), unit = \"\"),\n",
    "             QE.CellParameterZ(vector = (0, 0.5, 0.5), unit = \"\"))"
   ]
  },
  {
   "cell_type": "markdown",
   "metadata": {},
   "source": [
    "And then we add everything created so far to the simulation:\n"
   ]
  },
  {
   "cell_type": "code",
   "execution_count": 6,
   "metadata": {},
   "outputs": [
    {
     "output_type": "execute_result",
     "data": {
      "text/plain": "<qe.K_POINTS: 462dc0bf-35a1-4083-89ea-354fc38eee48,  CoreSession: @0x7f83fd5f7340>"
     },
     "metadata": {},
     "execution_count": 6
    }
   ],
   "source": [
    "sim.add(SiCell)\n",
    "sim.add(Si)\n",
    "sim.add(k)"
   ]
  },
  {
   "cell_type": "markdown",
   "metadata": {},
   "source": [
    "While we're add it, let's add some variables to the simulation which we can check to see if they have been updated. They will not be taken into account when simulating, so they're there for control purposes.\n"
   ]
  },
  {
   "cell_type": "code",
   "execution_count": 7,
   "metadata": {},
   "outputs": [
    {
     "output_type": "execute_result",
     "data": {
      "text/plain": "<qe.StressTensor: 09f0f304-f6fc-4faa-81e2-bbdc6dada874,  CoreSession: @0x7f83fd5f7340>"
     },
     "metadata": {},
     "execution_count": 7
    }
   ],
   "source": [
    "sim.add(QE.Pressure(value = 100, unit = \"kbar\"))\n",
    "sim.add(QE.StressTensor(tensor2 = np.zeros((3, 3)), unit = \"kbar\"))"
   ]
  },
  {
   "cell_type": "markdown",
   "metadata": {},
   "source": [
    "Let's check out what this simulation looks like now with the `pretty_print` function:"
   ]
  },
  {
   "cell_type": "code",
   "execution_count": 8,
   "metadata": {
    "tags": []
   },
   "outputs": [
    {
     "output_type": "stream",
     "name": "stdout",
     "text": "- Cuds object:\n  uuid: 900ad868-56f9-4b3f-90a2-d1f6b08c6876\n  type: qe.Simulation\n  superclasses: cuba.Class, cuba.Entity, qe.Simulation\n  description: \n    All components of the simulation that are needed to run the model\n\n   |_Relationship qe.HAS_PART:\n     -  qe.Cell cuds object:\n     .  uuid: 55f048cb-3f21-44d4-a152-29855ae71ffc\n     .   |_Relationship qe.HAS_PART:\n     .     -  qe.Atom cuds object:\n     .     .  uuid: 74f35152-188d-4446-91ac-b5be017a6f73\n     .     .   |_Relationship qe.HAS_PART:\n     .     .     -  qe.Position cuds object:\n     .     .        uuid: 9752a94e-626b-4696-92fd-ccad8c4f6761\n     .     .        vector: [0. 0. 0.]\n     .     .        unit: \n     .     -  qe.CellParams cuds object:\n     .     .  uuid: 6028eebd-dede-499c-a41e-aca7636c38de\n     .     .   |_Relationship qe.HAS_PART:\n     .     .     -  qe.CellParameterX cuds object:\n     .     .     .  uuid: 3ec36c5e-4c46-4823-9667-f1dc5a610520\n     .     .     .  vector: [0.5 0.5 0. ]\n     .     .     .  unit: \n     .     .     -  qe.CellParameterY cuds object:\n     .     .     .  uuid: 2f393d38-a72d-452b-800f-c1f8ce11482a\n     .     .     .  vector: [0.5 0.  0.5]\n     .     .     .  unit: \n     .     .     -  qe.CellParameterZ cuds object:\n     .     .        uuid: 7059b956-4c70-4c9e-8434-a8d57c08cbe2\n     .     .        vector: [0.  0.5 0.5]\n     .     .        unit: \n     .     -  qe.Celldm1 cuds object:\n     .        uuid: e076d0c6-8934-4d96-aeea-546b83e26c89\n     .        value: 5.4307\n     .        unit: au\n     -  qe.Element cuds object named <Si>:\n     .  uuid: 86ceec01-24b0-413d-b8a8-b46de2cda849\n     .   |_Relationship qe.HAS_PART:\n     .     -  qe.Atom cuds object:\n     .     .  uuid: 74f35152-188d-4446-91ac-b5be017a6f73\n     .     .  (already printed)\n     .     -  qe.Mass cuds object:\n     .     .  uuid: 3487115b-d241-43ab-8b5b-1981cc2316b5\n     .     .  value: 28.085\n     .     .  unit: amu\n     .     -  qe.PSEUDOPOTENTIAL cuds object named <Si.pbe-n-kjpaw_psl.1.0.0.UPF>:\n     .        uuid: bd35d035-ea3b-43f2-80c3-383e29747cff\n     -  qe.K_POINTS cuds object:\n     .  uuid: 462dc0bf-35a1-4083-89ea-354fc38eee48\n     .  vector6: [7. 7. 7. 0. 0. 0.]\n     .  unit: \n     -  qe.Pressure cuds object:\n     .  uuid: 739bd75a-23d5-4cd8-9ea9-61188876d358\n     .  value: 100.0\n     .  unit: kbar\n     -  qe.StressTensor cuds object:\n        uuid: 09f0f304-f6fc-4faa-81e2-bbdc6dada874\n        tensor2: [[0. 0. 0.]\n [0. 0. 0.]\n [0. 0. 0.]]\n        unit: kbar\n"
    }
   ],
   "source": [
    "pretty_print(sim)"
   ]
  },
  {
   "cell_type": "markdown",
   "metadata": {},
   "source": [
    "Now, it's time to get the simulation running:"
   ]
  },
  {
   "cell_type": "code",
   "execution_count": 9,
   "metadata": {
    "tags": []
   },
   "outputs": [
    {
     "output_type": "stream",
     "name": "stdout",
     "text": "Running calculation...\nsi.pwscf.in\npw.x -i si.pwscf.in > si.pwscf.out\n"
    }
   ],
   "source": [
    "session = qeSession()\n",
    "quantum_espresso_wrapper = QE.QEWrapper(session = session)\n",
    "quantum_espresso_wrapper.add(sim)\n",
    "print(\"Running calculation...\")\n",
    "\n",
    "quantum_espresso_wrapper.session._run(simulation = sim, prefix = \"si\", command_type = \"pw.x\", calculation_type = \"scf\", root = \"\", CONTROL = {'pseudo_dir': \"'.'\"})"
   ]
  },
  {
   "cell_type": "markdown",
   "metadata": {},
   "source": [
    "Now let's check the results of our calculation:"
   ]
  },
  {
   "cell_type": "code",
   "execution_count": 10,
   "metadata": {
    "tags": []
   },
   "outputs": [
    {
     "output_type": "stream",
     "name": "stdout",
     "text": "- Cuds object:\n  uuid: 900ad868-56f9-4b3f-90a2-d1f6b08c6876\n  type: qe.Simulation\n  superclasses: cuba.Class, cuba.Entity, qe.Simulation\n  description: \n    All components of the simulation that are needed to run the model\n\n   |_Relationship qe.HAS_PART:\n     -  qe.Cell cuds object:\n     .  uuid: 55f048cb-3f21-44d4-a152-29855ae71ffc\n     .   |_Relationship qe.HAS_PART:\n     .     -  qe.Atom cuds object:\n     .     .  uuid: 74f35152-188d-4446-91ac-b5be017a6f73\n     .     .   |_Relationship qe.HAS_PART:\n     .     .     -  qe.Force cuds object:\n     .     .     .  uuid: 3dea8718-f430-4be9-8986-d97a7ffef349\n     .     .     .  vector: [0. 0. 0.]\n     .     .     .  unit: N\n     .     .     -  qe.Position cuds object:\n     .     .        uuid: 9752a94e-626b-4696-92fd-ccad8c4f6761\n     .     .        vector: [0. 0. 0.]\n     .     .        unit: \n     .     -  qe.CellParams cuds object:\n     .     .  uuid: 6028eebd-dede-499c-a41e-aca7636c38de\n     .     .   |_Relationship qe.HAS_PART:\n     .     .     -  qe.CellParameterX cuds object:\n     .     .     .  uuid: 3ec36c5e-4c46-4823-9667-f1dc5a610520\n     .     .     .  vector: [0.5 0.5 0. ]\n     .     .     .  unit: \n     .     .     -  qe.CellParameterY cuds object:\n     .     .     .  uuid: 2f393d38-a72d-452b-800f-c1f8ce11482a\n     .     .     .  vector: [0.5 0.  0.5]\n     .     .     .  unit: \n     .     .     -  qe.CellParameterZ cuds object:\n     .     .        uuid: 7059b956-4c70-4c9e-8434-a8d57c08cbe2\n     .     .        vector: [0.  0.5 0.5]\n     .     .        unit: \n     .     -  qe.Celldm1 cuds object:\n     .     .  uuid: e076d0c6-8934-4d96-aeea-546b83e26c89\n     .     .  value: 5.4307\n     .     .  unit: au\n     .     -  qe.Volume cuds object:\n     .        uuid: b96e2364-426f-41e4-a6cc-cabf61914d8a\n     .        value: 40.0412\n     .        unit: au^3\n     -  qe.Element cuds object named <Si>:\n     .  uuid: 86ceec01-24b0-413d-b8a8-b46de2cda849\n     .   |_Relationship qe.HAS_PART:\n     .     -  qe.Atom cuds object:\n     .     .  uuid: 74f35152-188d-4446-91ac-b5be017a6f73\n     .     .  (already printed)\n     .     -  qe.Mass cuds object:\n     .     .  uuid: 3487115b-d241-43ab-8b5b-1981cc2316b5\n     .     .  value: 28.085\n     .     .  unit: amu\n     .     -  qe.PSEUDOPOTENTIAL cuds object named <Si.pbe-n-kjpaw_psl.1.0.0.UPF>:\n     .        uuid: bd35d035-ea3b-43f2-80c3-383e29747cff\n     -  qe.K_POINTS cuds object:\n     .  uuid: 462dc0bf-35a1-4083-89ea-354fc38eee48\n     .  vector6: [7. 7. 7. 0. 0. 0.]\n     .  unit: \n     -  qe.Outfile cuds object:\n     .  uuid: 0114a17f-4ee3-4b2a-be76-3081f6290e99\n     .  path: si.pwscf.out\n     -  qe.Pressure cuds object:\n     .  uuid: 739bd75a-23d5-4cd8-9ea9-61188876d358\n     .  value: 5723.64\n     .  unit: kbar\n     -  qe.StressTensor cuds object:\n     .  uuid: 09f0f304-f6fc-4faa-81e2-bbdc6dada874\n     .  tensor2: [[5723.64    0.      0.  ]\n [   0.   5723.64    0.  ]\n [   0.      0.   5723.64]]\n     .  unit: kbar\n     -  qe.TotalEnergy cuds object:\n        uuid: 98c3f906-934f-4e68-b78d-ea94044bec9c\n        value: -46.00727779\n        unit: Ry\n"
    }
   ],
   "source": [
    "pretty_print(sim)"
   ]
  },
  {
   "cell_type": "markdown",
   "metadata": {},
   "source": [
    "As you can see, the original part of the cuds tree is still there, with everything mostly the same. The new parts are:\n",
    "\n",
    "- The qe.PwOut cuds object. This is the output file of the simulation, in case there is something that the wrapper does not parse but that you would still like to see.\n",
    "- The qe.TotalEnergy cuds object. This was parsed from the qe.PwOut file itself.\n",
    "- The qe.Force cuds object. This represents the force exerted on the atom(s).\n",
    "\n",
    "The updated parts are:\n",
    "\n",
    "- The qe.Pressure cuds object, having changed in value from 100 kbar to 5723.64 kbar.\n",
    "- The qe.StressTensor cuds object, which is no longer zero."
   ]
  },
  {
   "cell_type": "markdown",
   "metadata": {},
   "source": [
    "Let's see if we can do better and calculate some bands structures:"
   ]
  },
  {
   "cell_type": "code",
   "execution_count": 11,
   "metadata": {
    "tags": []
   },
   "outputs": [
    {
     "output_type": "stream",
     "name": "stdout",
     "text": "si.pwbands.in\npw.x -i si.pwbands.in > si.pwbands.out\nsi.bands.in\nbands.x -i si.bands.in > si.bands.out\n"
    }
   ],
   "source": [
    "quantum_espresso_wrapper.session._run(simulation = sim, prefix = \"si\", command_type = \"pw.x\", calculation_type = \"bands\")\n",
    "quantum_espresso_wrapper.session._run(simulation = sim, prefix = \"si\", command_type = \"bands.x\", calculation_type = \"\")"
   ]
  },
  {
   "cell_type": "markdown",
   "metadata": {},
   "source": [
    "Although the cuds structure won't have changed much by this, the data is there in the folder.\n",
    "\n",
    "Now let's try to relax this cell. While it isn't a real cell, we can still perform the calculations to relax it to know what the movement of the atoms would be like if it were a real cell (warning, perform vc-relax type calculations with caution. These examples are designed to be lightweight and non-indicative of real-world applications)."
   ]
  },
  {
   "cell_type": "code",
   "execution_count": 12,
   "metadata": {
    "tags": []
   },
   "outputs": [
    {
     "output_type": "stream",
     "name": "stdout",
     "text": "si.pwrelax.in\npw.x -i si.pwrelax.in > si.pwrelax.out\n"
    }
   ],
   "source": [
    "quantum_espresso_wrapper.session._run(simulation = sim, prefix = \"si\", command_type = \"pw.x\", calculation_type = \"relax\", IONS = {'ion_dynamics': \"'bfgs'\"})"
   ]
  },
  {
   "cell_type": "code",
   "execution_count": 13,
   "metadata": {
    "tags": []
   },
   "outputs": [
    {
     "output_type": "stream",
     "name": "stdout",
     "text": "- Cuds object:\n  uuid: 900ad868-56f9-4b3f-90a2-d1f6b08c6876\n  type: qe.Simulation\n  superclasses: cuba.Class, cuba.Entity, qe.Simulation\n  description: \n    All components of the simulation that are needed to run the model\n\n   |_Relationship qe.HAS_PART:\n     -  qe.BandsDat cuds object:\n     .  uuid: 9ae8f7ea-c044-435e-a8cd-6e017a66cae2\n     .  path: si.bands.dat\n     -  qe.Cell cuds object:\n     .  uuid: 55f048cb-3f21-44d4-a152-29855ae71ffc\n     .   |_Relationship qe.HAS_PART:\n     .     -  qe.Atom cuds object:\n     .     .  uuid: 74f35152-188d-4446-91ac-b5be017a6f73\n     .     .   |_Relationship qe.HAS_PART:\n     .     .     -  qe.Force cuds object:\n     .     .     .  uuid: 3dea8718-f430-4be9-8986-d97a7ffef349\n     .     .     .  vector: [0. 0. 0.]\n     .     .     .  unit: N\n     .     .     -  qe.Position cuds object:\n     .     .        uuid: 9752a94e-626b-4696-92fd-ccad8c4f6761\n     .     .        vector: [0. 0. 0.]\n     .     .        unit: kbar\n     .     -  qe.CellParams cuds object:\n     .     .  uuid: 6028eebd-dede-499c-a41e-aca7636c38de\n     .     .   |_Relationship qe.HAS_PART:\n     .     .     -  qe.CellParameterX cuds object:\n     .     .     .  uuid: 3ec36c5e-4c46-4823-9667-f1dc5a610520\n     .     .     .  vector: [0.5 0.5 0. ]\n     .     .     .  unit: \n     .     .     -  qe.CellParameterY cuds object:\n     .     .     .  uuid: 2f393d38-a72d-452b-800f-c1f8ce11482a\n     .     .     .  vector: [0.5 0.  0.5]\n     .     .     .  unit: \n     .     .     -  qe.CellParameterZ cuds object:\n     .     .        uuid: 7059b956-4c70-4c9e-8434-a8d57c08cbe2\n     .     .        vector: [0.  0.5 0.5]\n     .     .        unit: \n     .     -  qe.Celldm1 cuds object:\n     .     .  uuid: e076d0c6-8934-4d96-aeea-546b83e26c89\n     .     .  value: 5.4307\n     .     .  unit: au\n     .     -  qe.Volume cuds object:\n     .        uuid: b96e2364-426f-41e4-a6cc-cabf61914d8a\n     .        value: 40.0412\n     .        unit: au^3\n     -  qe.Element cuds object named <Si>:\n     .  uuid: 86ceec01-24b0-413d-b8a8-b46de2cda849\n     .   |_Relationship qe.HAS_PART:\n     .     -  qe.Atom cuds object:\n     .     .  uuid: 74f35152-188d-4446-91ac-b5be017a6f73\n     .     .  (already printed)\n     .     -  qe.Mass cuds object:\n     .     .  uuid: 3487115b-d241-43ab-8b5b-1981cc2316b5\n     .     .  value: 28.085\n     .     .  unit: amu\n     .     -  qe.PSEUDOPOTENTIAL cuds object named <Si.pbe-n-kjpaw_psl.1.0.0.UPF>:\n     .        uuid: bd35d035-ea3b-43f2-80c3-383e29747cff\n     -  qe.K_POINTS cuds object:\n     .  uuid: 462dc0bf-35a1-4083-89ea-354fc38eee48\n     .  vector6: [7. 7. 7. 0. 0. 0.]\n     .  unit: \n     -  qe.Outfile cuds object:\n     .  uuid: 0114a17f-4ee3-4b2a-be76-3081f6290e99\n     .  path: si.pwscf.out\n     -  qe.Outfile cuds object:\n     .  uuid: 1230f709-98af-454d-bd00-e11dec0495bb\n     .  path: si.pwbands.out\n     -  qe.Outfile cuds object:\n     .  uuid: 31978abf-f28f-4487-93ed-e2778fdacbb1\n     .  path: si.bands.out\n     -  qe.Outfile cuds object:\n     .  uuid: 3030fd34-9627-46e8-ae96-bace65242684\n     .  path: si.pwrelax.out\n     -  qe.Pressure cuds object:\n     .  uuid: 739bd75a-23d5-4cd8-9ea9-61188876d358\n     .  value: 5723.64\n     .  unit: kbar\n     -  qe.StressTensor cuds object:\n     .  uuid: 09f0f304-f6fc-4faa-81e2-bbdc6dada874\n     .  tensor2: [[5723.64    0.      0.  ]\n [   0.   5723.64    0.  ]\n [   0.      0.   5723.64]]\n     .  unit: kbar\n     -  qe.TotalEnergy cuds object:\n        uuid: 98c3f906-934f-4e68-b78d-ea94044bec9c\n        value: -46.00727779\n        unit: Ry\n"
    }
   ],
   "source": [
    "pretty_print(sim)"
   ]
  },
  {
   "cell_type": "markdown",
   "metadata": {},
   "source": [
    "In this example, the position hasn't changed, since there's only one atom. So let's spice things up a little bit and add another atom, and then relax:"
   ]
  },
  {
   "cell_type": "code",
   "execution_count": 14,
   "metadata": {
    "tags": []
   },
   "outputs": [
    {
     "output_type": "stream",
     "name": "stdout",
     "text": "- Cuds object:\n  uuid: 900ad868-56f9-4b3f-90a2-d1f6b08c6876\n  type: qe.Simulation\n  superclasses: cuba.Class, cuba.Entity, qe.Simulation\n  description: \n    All components of the simulation that are needed to run the model\n\n   |_Relationship qe.HAS_PART:\n     -  qe.BandsDat cuds object:\n     .  uuid: 9ae8f7ea-c044-435e-a8cd-6e017a66cae2\n     .  path: si.bands.dat\n     -  qe.Cell cuds object:\n     .  uuid: 55f048cb-3f21-44d4-a152-29855ae71ffc\n     .   |_Relationship qe.HAS_PART:\n     .     -  qe.Atom cuds object:\n     .     .  uuid: 74f35152-188d-4446-91ac-b5be017a6f73\n     .     .   |_Relationship qe.HAS_PART:\n     .     .     -  qe.Force cuds object:\n     .     .     .  uuid: 3dea8718-f430-4be9-8986-d97a7ffef349\n     .     .     .  vector: [0. 0. 0.]\n     .     .     .  unit: N\n     .     .     -  qe.Position cuds object:\n     .     .        uuid: 9752a94e-626b-4696-92fd-ccad8c4f6761\n     .     .        vector: [0. 0. 0.]\n     .     .        unit: kbar\n     .     -  qe.CellParams cuds object:\n     .     .  uuid: 6028eebd-dede-499c-a41e-aca7636c38de\n     .     .   |_Relationship qe.HAS_PART:\n     .     .     -  qe.CellParameterX cuds object:\n     .     .     .  uuid: 3ec36c5e-4c46-4823-9667-f1dc5a610520\n     .     .     .  vector: [0.5 0.5 0. ]\n     .     .     .  unit: \n     .     .     -  qe.CellParameterY cuds object:\n     .     .     .  uuid: 2f393d38-a72d-452b-800f-c1f8ce11482a\n     .     .     .  vector: [0.5 0.  0.5]\n     .     .     .  unit: \n     .     .     -  qe.CellParameterZ cuds object:\n     .     .        uuid: 7059b956-4c70-4c9e-8434-a8d57c08cbe2\n     .     .        vector: [0.  0.5 0.5]\n     .     .        unit: \n     .     -  qe.Celldm1 cuds object:\n     .     .  uuid: e076d0c6-8934-4d96-aeea-546b83e26c89\n     .     .  value: 5.4307\n     .     .  unit: au\n     .     -  qe.Element cuds object named <Si>:\n     .     .  uuid: 86ceec01-24b0-413d-b8a8-b46de2cda849\n     .     .   |_Relationship qe.HAS_PART:\n     .     .     -  qe.Atom cuds object:\n     .     .     .  uuid: 74f35152-188d-4446-91ac-b5be017a6f73\n     .     .     .  (already printed)\n     .     .     -  qe.Atom cuds object:\n     .     .     .  uuid: b5fb2a26-4408-4f37-a21f-6b90858298ab\n     .     .     .   |_Relationship qe.HAS_PART:\n     .     .     .     -  qe.Position cuds object:\n     .     .     .        uuid: f77f0cee-5b2e-4281-96f8-c72d183795ca\n     .     .     .        vector: [0.25 0.25 0.26]\n     .     .     .        unit: \n     .     .     -  qe.Mass cuds object:\n     .     .     .  uuid: 3487115b-d241-43ab-8b5b-1981cc2316b5\n     .     .     .  value: 28.085\n     .     .     .  unit: amu\n     .     .     -  qe.PSEUDOPOTENTIAL cuds object named <Si.pbe-n-kjpaw_psl.1.0.0.UPF>:\n     .     .        uuid: bd35d035-ea3b-43f2-80c3-383e29747cff\n     .     -  qe.Volume cuds object:\n     .        uuid: b96e2364-426f-41e4-a6cc-cabf61914d8a\n     .        value: 40.0412\n     .        unit: au^3\n     -  qe.Element cuds object named <Si>:\n     .  uuid: 86ceec01-24b0-413d-b8a8-b46de2cda849\n     .  (already printed)\n     -  qe.K_POINTS cuds object:\n     .  uuid: 462dc0bf-35a1-4083-89ea-354fc38eee48\n     .  vector6: [7. 7. 7. 0. 0. 0.]\n     .  unit: \n     -  qe.Outfile cuds object:\n     .  uuid: 0114a17f-4ee3-4b2a-be76-3081f6290e99\n     .  path: si.pwscf.out\n     -  qe.Outfile cuds object:\n     .  uuid: 1230f709-98af-454d-bd00-e11dec0495bb\n     .  path: si.pwbands.out\n     -  qe.Outfile cuds object:\n     .  uuid: 31978abf-f28f-4487-93ed-e2778fdacbb1\n     .  path: si.bands.out\n     -  qe.Outfile cuds object:\n     .  uuid: 3030fd34-9627-46e8-ae96-bace65242684\n     .  path: si.pwrelax.out\n     -  qe.Pressure cuds object:\n     .  uuid: 739bd75a-23d5-4cd8-9ea9-61188876d358\n     .  value: 5723.64\n     .  unit: kbar\n     -  qe.StressTensor cuds object:\n     .  uuid: 09f0f304-f6fc-4faa-81e2-bbdc6dada874\n     .  tensor2: [[5723.64    0.      0.  ]\n [   0.   5723.64    0.  ]\n [   0.      0.   5723.64]]\n     .  unit: kbar\n     -  qe.TotalEnergy cuds object:\n        uuid: 98c3f906-934f-4e68-b78d-ea94044bec9c\n        value: -46.00727779\n        unit: Ry\n"
    }
   ],
   "source": [
    "Si2 = QE.Atom()\n",
    "Si2.add(QE.Position(vector = (0.25, 0.25, 0.26), unit = \"\"))\n",
    "SiCell.add(Si)\n",
    "Si.add(Si2)\n",
    "pretty_print(sim)"
   ]
  },
  {
   "cell_type": "code",
   "execution_count": 15,
   "metadata": {
    "tags": []
   },
   "outputs": [
    {
     "output_type": "stream",
     "name": "stdout",
     "text": "si.pwrelax.in\npw.x -i si.pwrelax.in > si.pwrelax.out\n- Cuds object:\n  uuid: 900ad868-56f9-4b3f-90a2-d1f6b08c6876\n  type: qe.Simulation\n  superclasses: cuba.Class, cuba.Entity, qe.Simulation\n  description: \n    All components of the simulation that are needed to run the model\n\n   |_Relationship qe.HAS_PART:\n     -  qe.BandsDat cuds object:\n     .  uuid: 9ae8f7ea-c044-435e-a8cd-6e017a66cae2\n     .  path: si.bands.dat\n     -  qe.Cell cuds object:\n     .  uuid: 55f048cb-3f21-44d4-a152-29855ae71ffc\n     .   |_Relationship qe.HAS_PART:\n     .     -  qe.Atom cuds object:\n     .     .  uuid: 74f35152-188d-4446-91ac-b5be017a6f73\n     .     .   |_Relationship qe.HAS_PART:\n     .     .     -  qe.Force cuds object:\n     .     .     .  uuid: 3dea8718-f430-4be9-8986-d97a7ffef349\n     .     .     .  vector: [ 4.2290e-05 -6.8198e-04 -6.8198e-04]\n     .     .     .  unit: N\n     .     .     -  qe.Position cuds object:\n     .     .        uuid: 9752a94e-626b-4696-92fd-ccad8c4f6761\n     .     .        vector: [-1.3359000e-06 -1.3359000e-06  5.0630848e-03]\n     .     .        unit: kbar\n     .     -  qe.CellParams cuds object:\n     .     .  uuid: 6028eebd-dede-499c-a41e-aca7636c38de\n     .     .   |_Relationship qe.HAS_PART:\n     .     .     -  qe.CellParameterX cuds object:\n     .     .     .  uuid: 3ec36c5e-4c46-4823-9667-f1dc5a610520\n     .     .     .  vector: [0.5 0.5 0. ]\n     .     .     .  unit: \n     .     .     -  qe.CellParameterY cuds object:\n     .     .     .  uuid: 2f393d38-a72d-452b-800f-c1f8ce11482a\n     .     .     .  vector: [0.5 0.  0.5]\n     .     .     .  unit: \n     .     .     -  qe.CellParameterZ cuds object:\n     .     .        uuid: 7059b956-4c70-4c9e-8434-a8d57c08cbe2\n     .     .        vector: [0.  0.5 0.5]\n     .     .        unit: \n     .     -  qe.Celldm1 cuds object:\n     .     .  uuid: e076d0c6-8934-4d96-aeea-546b83e26c89\n     .     .  value: 5.4307\n     .     .  unit: au\n     .     -  qe.Element cuds object named <Si>:\n     .     .  uuid: 86ceec01-24b0-413d-b8a8-b46de2cda849\n     .     .   |_Relationship qe.HAS_PART:\n     .     .     -  qe.Atom cuds object:\n     .     .     .  uuid: 74f35152-188d-4446-91ac-b5be017a6f73\n     .     .     .  (already printed)\n     .     .     -  qe.Atom cuds object:\n     .     .     .  uuid: b5fb2a26-4408-4f37-a21f-6b90858298ab\n     .     .     .   |_Relationship qe.HAS_PART:\n     .     .     .     -  qe.Force cuds object:\n     .     .     .     .  uuid: c65c2e8d-0e13-4efc-b261-f3bd7b5daae4\n     .     .     .     .  vector: [-4.2290e-05  6.8198e-04  6.8198e-04]\n     .     .     .     .  unit: N\n     .     .     .     -  qe.Position cuds object:\n     .     .     .        uuid: f77f0cee-5b2e-4281-96f8-c72d183795ca\n     .     .     .        vector: [0.25000134 0.25000134 0.25493692]\n     .     .     .        unit: kbar\n     .     .     -  qe.Mass cuds object:\n     .     .     .  uuid: 3487115b-d241-43ab-8b5b-1981cc2316b5\n     .     .     .  value: 28.085\n     .     .     .  unit: amu\n     .     .     -  qe.PSEUDOPOTENTIAL cuds object named <Si.pbe-n-kjpaw_psl.1.0.0.UPF>:\n     .     .        uuid: bd35d035-ea3b-43f2-80c3-383e29747cff\n     .     -  qe.Volume cuds object:\n     .        uuid: b96e2364-426f-41e4-a6cc-cabf61914d8a\n     .        value: 40.0412\n     .        unit: au^3\n     -  qe.Element cuds object named <Si>:\n     .  uuid: 86ceec01-24b0-413d-b8a8-b46de2cda849\n     .  (already printed)\n     -  qe.K_POINTS cuds object:\n     .  uuid: 462dc0bf-35a1-4083-89ea-354fc38eee48\n     .  vector6: [7. 7. 7. 0. 0. 0.]\n     .  unit: \n     -  qe.Outfile cuds object:\n     .  uuid: 0114a17f-4ee3-4b2a-be76-3081f6290e99\n     .  path: si.pwscf.out\n     -  qe.Outfile cuds object:\n     .  uuid: 1230f709-98af-454d-bd00-e11dec0495bb\n     .  path: si.pwbands.out\n     -  qe.Outfile cuds object:\n     .  uuid: 31978abf-f28f-4487-93ed-e2778fdacbb1\n     .  path: si.bands.out\n     -  qe.Outfile cuds object:\n     .  uuid: 3030fd34-9627-46e8-ae96-bace65242684\n     .  path: si.pwrelax.out\n     -  qe.Outfile cuds object:\n     .  uuid: d16177c6-0dc3-41dc-91a5-e698607519aa\n     .  path: si.pwrelax.out\n     -  qe.Pressure cuds object:\n     .  uuid: 739bd75a-23d5-4cd8-9ea9-61188876d358\n     .  value: 47362.0\n     .  unit: kbar\n     -  qe.StressTensor cuds object:\n     .  uuid: 09f0f304-f6fc-4faa-81e2-bbdc6dada874\n     .  tensor2: [[ 4.7362e+04  1.3840e+01  1.3840e+01]\n [ 1.3840e+01  4.7362e+04 -8.8000e-01]\n [ 1.3840e+01 -8.8000e-01  4.7362e+04]]\n     .  unit: kbar\n     -  qe.TotalEnergy cuds object:\n        uuid: 98c3f906-934f-4e68-b78d-ea94044bec9c\n        value: -84.4487575\n        unit: Ry\n"
    }
   ],
   "source": [
    "quantum_espresso_wrapper.session._run(simulation = sim, prefix = \"si\", command_type = \"pw.x\", calculation_type = \"relax\", IONS = {'ion_dynamics': \"'bfgs'\"})\n",
    "pretty_print(sim)"
   ]
  },
  {
   "cell_type": "code",
   "execution_count": null,
   "metadata": {},
   "outputs": [],
   "source": []
  }
 ]
}
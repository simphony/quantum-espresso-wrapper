{
 "metadata": {
  "language_info": {
   "codemirror_mode": {
    "name": "ipython",
    "version": 3
   },
   "file_extension": ".py",
   "mimetype": "text/x-python",
   "name": "python",
   "nbconvert_exporter": "python",
   "pygments_lexer": "ipython3",
   "version": "3.8.2-final"
  },
  "orig_nbformat": 2,
  "kernelspec": {
   "name": "python_defaultSpec_1597403599358",
   "display_name": "Python 3.8.2 64-bit"
  }
 },
 "nbformat": 4,
 "nbformat_minor": 2,
 "cells": [
  {
   "cell_type": "markdown",
   "metadata": {},
   "source": [
    "# Tutorial 06: Quantum Espresso Wrapper\n",
    "In this tutorial we will go through a simple example of how to use the wrapper for the Quantum Espresso simulation engine. You can find the wrapper [here](https://github.com/simphony/quantum-espresso-wrapper).\n",
    "## Background\n",
    "This is an example of a slightly different design based upon the input-output functionality of certain simulation engines such as Quantum Espresso and Gromacs.\n"
   ]
  },
  {
   "cell_type": "markdown",
   "metadata": {},
   "source": [
    "## Let's get hands-on\n",
    "### Installation\n",
    "To run the local installation of Quantum Espresso, simply run `./install_engine.sh`. This should check for the prerequisites and compile the code for Quantum Espresso for you.\n",
    "\n",
    "If the script runs into an error finding openmpi-bin or something like that, try running `apt-get update` and try again. \n",
    "Once the installation has completed, try running `pw.x` to see if the installation has succeeded. If this does not work, then try adding `export PATH=$PATH:/home/username/qe-6.1/bin/` at the end of `.bashrc` located at your home folder.  \n",
    "  \n",
    "Once you have verified that `pw.x` works, install the ontology via `pico install ontology.simlammps.yml`, and make sure to run `python3 setup.py` located in the root of the quantum espresso wrapper folder.   \n",
    "\n",
    "Note that the installation of the ontology requires version 3.4.0 of osp-core to be installed (see [dev branch](https://github.com/simphony/osp-core/tree/v3.4.0-dev))\n",
    "\n",
    "That should be all needed to use Quantum Espresso!\n",
    "\n",
    "### Simple example\n",
    "\n",
    "This is an adaptation of quantum-espresso-wrapper/examples/Simple.py. As usual, we need to import the necessary components:"
   ]
  },
  {
   "cell_type": "code",
   "execution_count": 1,
   "metadata": {},
   "outputs": [],
   "source": [
    "import numpy as np \n",
    "\n",
    "from osp.core.namespaces import QE\n",
    "from osp.core.utils import pretty_print\n",
    "from osp.wrappers.quantumespresso.qe_session import qeSession"
   ]
  },
  {
   "cell_type": "markdown",
   "metadata": {},
   "source": [
    "Next, we create simulation and its K points, which determine at what points it samples the cell"
   ]
  },
  {
   "cell_type": "code",
   "execution_count": 2,
   "metadata": {},
   "outputs": [],
   "source": [
    "sim = QE.Simulation()\n",
    "k = QE.K_POINTS(vector6 = (7, 7, 7, 0, 0, 0), unit = \"\")\n"
   ]
  },
  {
   "cell_type": "markdown",
   "metadata": {},
   "source": [
    "Next, we create a cell, the element Silicon, a pseudopotential, an atom and the cell parameters. Note that the pseudopotential files should ALWAYS be located inside of a folder named `$PSEUDO_DIR` inside of wherever you are running the simulation."
   ]
  },
  {
   "cell_type": "code",
   "execution_count": 3,
   "metadata": {},
   "outputs": [],
   "source": [
    "SiCell = QE.Cell()\n",
    "Si = QE.Element(name = \"Si\")\n",
    "SiPseudo = QE.PSEUDOPOTENTIAL(name = \"Si.pbe-n-kjpaw_psl.1.0.0.UPF\")\n",
    "Si1 = QE.Atom()\n",
    "SiParams = QE.CellParams()\n",
    "celldm1 = QE.Celldm1(value = 5.43070, unit = \"au\")"
   ]
  },
  {
   "cell_type": "markdown",
   "metadata": {},
   "source": [
    "Next, we connect these all to each other using the `add` method."
   ]
  },
  {
   "cell_type": "code",
   "execution_count": 4,
   "metadata": {},
   "outputs": [
    {
     "output_type": "execute_result",
     "data": {
      "text/plain": "<qe.Celldm1: 67836db3-e218-4c73-bce5-829209b156ba,  CoreSession: @0x7fcd7b1073a0>"
     },
     "metadata": {},
     "execution_count": 4
    }
   ],
   "source": [
    "Si.add(SiPseudo, Si1)\n",
    "Si.add(QE.Mass(value = 28.085, unit = \"amu\"))\n",
    "SiCell.add(Si1, SiParams)\n",
    "Si1.add(QE.Position(vector = (0, 0, 0), unit = \"\"))\n",
    "SiCell.add(celldm1)"
   ]
  },
  {
   "cell_type": "markdown",
   "metadata": {},
   "source": [
    "We specify the cell parameters:"
   ]
  },
  {
   "cell_type": "code",
   "execution_count": 5,
   "metadata": {},
   "outputs": [
    {
     "output_type": "execute_result",
     "data": {
      "text/plain": "[<qe.CellParameterX: 13db9a63-afba-47f2-bdf1-7b0b67bfdbbf,  CoreSession: @0x7fcd7b1073a0>,\n <qe.CellParameterY: a8de80c1-99c0-49a9-817f-f34d470113a9,  CoreSession: @0x7fcd7b1073a0>,\n <qe.CellParameterZ: 49be5d67-26dd-4331-8750-92ac435ae5cd,  CoreSession: @0x7fcd7b1073a0>]"
     },
     "metadata": {},
     "execution_count": 5
    }
   ],
   "source": [
    "SiParams.add(QE.CellParameterX(vector = (0.5, 0.5, 0), unit = \"\"),\n",
    "             QE.CellParameterY(vector = (0.5, 0, 0.5), unit = \"\"),\n",
    "             QE.CellParameterZ(vector = (0, 0.5, 0.5), unit = \"\"))"
   ]
  },
  {
   "cell_type": "markdown",
   "metadata": {},
   "source": [
    "And then we add everything created so far to the simulation:\n"
   ]
  },
  {
   "cell_type": "code",
   "execution_count": 6,
   "metadata": {},
   "outputs": [
    {
     "output_type": "execute_result",
     "data": {
      "text/plain": "<qe.K_POINTS: db504805-6dce-4807-8df9-8a59dc8be553,  CoreSession: @0x7fcd7b1073a0>"
     },
     "metadata": {},
     "execution_count": 6
    }
   ],
   "source": [
    "sim.add(SiCell)\n",
    "sim.add(Si)\n",
    "sim.add(k)"
   ]
  },
  {
   "cell_type": "markdown",
   "metadata": {},
   "source": [
    "While we're add it, let's add some variables to the simulation which we can check to see if they have been updated. They will not be taken into account when simulating, so they're there for control purposes.\n"
   ]
  },
  {
   "cell_type": "code",
   "execution_count": 7,
   "metadata": {},
   "outputs": [
    {
     "output_type": "execute_result",
     "data": {
      "text/plain": "<qe.StressTensor: bc31ccdd-a7bd-4862-8e41-760b7aaa7037,  CoreSession: @0x7fcd7b1073a0>"
     },
     "metadata": {},
     "execution_count": 7
    }
   ],
   "source": [
    "sim.add(QE.Pressure(value = 100, unit = \"kbar\"))\n",
    "sim.add(QE.StressTensor(tensor2 = np.zeros((3, 3)), unit = \"kbar\"))"
   ]
  },
  {
   "cell_type": "markdown",
   "metadata": {},
   "source": [
    "Let's check out what this simulation looks like now with the `pretty_print` function:"
   ]
  },
  {
   "cell_type": "code",
   "execution_count": 8,
   "metadata": {
    "tags": []
   },
   "outputs": [
    {
     "output_type": "stream",
     "name": "stdout",
     "text": "- Cuds object:\n  uuid: 6fd0b852-d5b1-41d3-9fd0-7860f7681f64\n  type: qe.Simulation\n  superclasses: cuba.Class, cuba.Entity, qe.Simulation\n  description: \n    All components of the simulation that are needed to run the model\n\n   |_Relationship qe.HAS_PART:\n     -  qe.Cell cuds object:\n     .  uuid: 6bcbceb0-51fe-4b31-8e38-f9f4d40cc5de\n     .   |_Relationship qe.HAS_PART:\n     .     -  qe.Atom cuds object:\n     .     .  uuid: 36665abe-cf83-46ca-8848-e17cdbcdecab\n     .     .   |_Relationship qe.HAS_PART:\n     .     .     -  qe.Position cuds object:\n     .     .        uuid: 41f81d42-f7f2-4dc3-8430-5992db17a684\n     .     .        vector: [0. 0. 0.]\n     .     .        unit: \n     .     -  qe.CellParams cuds object:\n     .     .  uuid: d865d0d8-153c-46ae-83ea-1f434dbfb60b\n     .     .   |_Relationship qe.HAS_PART:\n     .     .     -  qe.CellParameterX cuds object:\n     .     .     .  uuid: 13db9a63-afba-47f2-bdf1-7b0b67bfdbbf\n     .     .     .  vector: [0.5 0.5 0. ]\n     .     .     .  unit: \n     .     .     -  qe.CellParameterY cuds object:\n     .     .     .  uuid: a8de80c1-99c0-49a9-817f-f34d470113a9\n     .     .     .  vector: [0.5 0.  0.5]\n     .     .     .  unit: \n     .     .     -  qe.CellParameterZ cuds object:\n     .     .        uuid: 49be5d67-26dd-4331-8750-92ac435ae5cd\n     .     .        vector: [0.  0.5 0.5]\n     .     .        unit: \n     .     -  qe.Celldm1 cuds object:\n     .        uuid: 67836db3-e218-4c73-bce5-829209b156ba\n     .        value: 5.4307\n     .        unit: au\n     -  qe.Element cuds object named <Si>:\n     .  uuid: 877afad5-57b6-439b-aab9-e1704d49bc42\n     .   |_Relationship qe.HAS_PART:\n     .     -  qe.Atom cuds object:\n     .     .  uuid: 36665abe-cf83-46ca-8848-e17cdbcdecab\n     .     .  (already printed)\n     .     -  qe.Mass cuds object:\n     .     .  uuid: efd89293-e4d0-44a6-902b-26ecd4af73fa\n     .     .  value: 28.085\n     .     .  unit: amu\n     .     -  qe.PSEUDOPOTENTIAL cuds object named <Si.pbe-n-kjpaw_psl.1.0.0.UPF>:\n     .        uuid: 303a996e-a94c-4019-93aa-905a2f7aa59d\n     -  qe.K_POINTS cuds object:\n     .  uuid: db504805-6dce-4807-8df9-8a59dc8be553\n     .  unit: \n     .  vector6: [7. 7. 7. 0. 0. 0.]\n     -  qe.Pressure cuds object:\n     .  uuid: 72cc785b-bb38-496a-86ab-c6084ac45c4c\n     .  value: 100.0\n     .  unit: kbar\n     -  qe.StressTensor cuds object:\n        uuid: bc31ccdd-a7bd-4862-8e41-760b7aaa7037\n        unit: kbar\n        tensor2: [[0. 0. 0.]\n [0. 0. 0.]\n [0. 0. 0.]]\n"
    }
   ],
   "source": [
    "pretty_print(sim)"
   ]
  },
  {
   "cell_type": "markdown",
   "metadata": {},
   "source": [
    "Now, it's time to get the simulation running:"
   ]
  },
  {
   "cell_type": "code",
   "execution_count": 9,
   "metadata": {
    "tags": []
   },
   "outputs": [
    {
     "output_type": "stream",
     "name": "stdout",
     "text": "Running calculation...\nsi.pwscf.in\npw.x -i si.pwscf.in > si.pwscf.out\n"
    }
   ],
   "source": [
    "session = qeSession()\n",
    "quantum_espresso_wrapper = QE.QEWrapper(session = session)\n",
    "quantum_espresso_wrapper.add(sim)\n",
    "print(\"Running calculation...\")\n",
    "\n",
    "quantum_espresso_wrapper.session._run(simulation = sim, prefix = \"si\", command_type = \"pw.x\", calculation_type = \"scf\", root = \"\", CONTROL = {'pseudo_dir': \"'.'\"})"
   ]
  },
  {
   "cell_type": "markdown",
   "metadata": {},
   "source": [
    "Now let's check the results of our calculation:"
   ]
  },
  {
   "cell_type": "code",
   "execution_count": 10,
   "metadata": {
    "tags": []
   },
   "outputs": [
    {
     "output_type": "stream",
     "name": "stdout",
     "text": "- Cuds object:\n  uuid: 6fd0b852-d5b1-41d3-9fd0-7860f7681f64\n  type: qe.Simulation\n  superclasses: cuba.Class, cuba.Entity, qe.Simulation\n  description: \n    All components of the simulation that are needed to run the model\n\n   |_Relationship qe.HAS_PART:\n     -  qe.Cell cuds object:\n     .  uuid: 6bcbceb0-51fe-4b31-8e38-f9f4d40cc5de\n     .   |_Relationship qe.HAS_PART:\n     .     -  qe.Atom cuds object:\n     .     .  uuid: 36665abe-cf83-46ca-8848-e17cdbcdecab\n     .     .   |_Relationship qe.HAS_PART:\n     .     .     -  qe.Force cuds object:\n     .     .     .  uuid: 963b849b-e61f-4992-8c7a-22dcc8b54362\n     .     .     .  vector: [0. 0. 0.]\n     .     .     .  unit: N\n     .     .     -  qe.Position cuds object:\n     .     .        uuid: 41f81d42-f7f2-4dc3-8430-5992db17a684\n     .     .        vector: [0. 0. 0.]\n     .     .        unit: \n     .     -  qe.CellParams cuds object:\n     .     .  uuid: d865d0d8-153c-46ae-83ea-1f434dbfb60b\n     .     .   |_Relationship qe.HAS_PART:\n     .     .     -  qe.CellParameterX cuds object:\n     .     .     .  uuid: 13db9a63-afba-47f2-bdf1-7b0b67bfdbbf\n     .     .     .  vector: [0.5 0.5 0. ]\n     .     .     .  unit: \n     .     .     -  qe.CellParameterY cuds object:\n     .     .     .  uuid: a8de80c1-99c0-49a9-817f-f34d470113a9\n     .     .     .  vector: [0.5 0.  0.5]\n     .     .     .  unit: \n     .     .     -  qe.CellParameterZ cuds object:\n     .     .        uuid: 49be5d67-26dd-4331-8750-92ac435ae5cd\n     .     .        vector: [0.  0.5 0.5]\n     .     .        unit: \n     .     -  qe.Celldm1 cuds object:\n     .     .  uuid: 67836db3-e218-4c73-bce5-829209b156ba\n     .     .  value: 5.4307\n     .     .  unit: au\n     .     -  qe.Volume cuds object:\n     .        uuid: 8a2afd88-db78-4b85-bad7-8ec740a33c4f\n     .        value: 40.0412\n     .        unit: au^3\n     -  qe.Element cuds object named <Si>:\n     .  uuid: 877afad5-57b6-439b-aab9-e1704d49bc42\n     .   |_Relationship qe.HAS_PART:\n     .     -  qe.Atom cuds object:\n     .     .  uuid: 36665abe-cf83-46ca-8848-e17cdbcdecab\n     .     .  (already printed)\n     .     -  qe.Mass cuds object:\n     .     .  uuid: efd89293-e4d0-44a6-902b-26ecd4af73fa\n     .     .  value: 28.085\n     .     .  unit: amu\n     .     -  qe.PSEUDOPOTENTIAL cuds object named <Si.pbe-n-kjpaw_psl.1.0.0.UPF>:\n     .        uuid: 303a996e-a94c-4019-93aa-905a2f7aa59d\n     -  qe.K_POINTS cuds object:\n     .  uuid: db504805-6dce-4807-8df9-8a59dc8be553\n     .  unit: \n     .  vector6: [7. 7. 7. 0. 0. 0.]\n     -  qe.Outfile cuds object:\n     .  uuid: e0ec7743-225f-4e66-b4d6-4c037c716bcd\n     .  path: si.pwscf.out\n     -  qe.Pressure cuds object:\n     .  uuid: 72cc785b-bb38-496a-86ab-c6084ac45c4c\n     .  value: 5723.64\n     .  unit: kbar\n     -  qe.StressTensor cuds object:\n     .  uuid: bc31ccdd-a7bd-4862-8e41-760b7aaa7037\n     .  unit: kbar\n     .  tensor2: [[5723.64    0.      0.  ]\n [   0.   5723.64    0.  ]\n [   0.      0.   5723.64]]\n     -  qe.TotalEnergy cuds object:\n        uuid: b90748f4-02d2-4057-97eb-b8a589d76737\n        value: -46.00727779\n        unit: Ry\n"
    }
   ],
   "source": [
    "pretty_print(sim)"
   ]
  },
  {
   "cell_type": "markdown",
   "metadata": {},
   "source": [
    "As you can see, the original part of the cuds tree is still there, with everything mostly the same. The new parts are:\n",
    "\n",
    "- The qe.PwOut cuds object. This is the output file of the simulation, in case there is something that the wrapper does not parse but that you would still like to see.\n",
    "- The qe.TotalEnergy cuds object. This was parsed from the qe.PwOut file itself.\n",
    "- The qe.Force cuds object. This represents the force exerted on the atom(s).\n",
    "\n",
    "The updated parts are:\n",
    "\n",
    "- The qe.Pressure cuds object, having changed in value from 100 kbar to 5723.64 kbar.\n",
    "- The qe.StressTensor cuds object, which is no longer zero."
   ]
  },
  {
   "cell_type": "markdown",
   "metadata": {},
   "source": [
    "Let's see if we can do better and calculate some bands structures:"
   ]
  },
  {
   "cell_type": "code",
   "execution_count": 12,
   "metadata": {
    "tags": []
   },
   "outputs": [
    {
     "output_type": "stream",
     "name": "stdout",
     "text": "si.pwbands.in\npw.x -i si.pwbands.in > si.pwbands.out\nsi.bands.in\nbands.x -i si.bands.in > si.bands.out\n"
    }
   ],
   "source": [
    "quantum_espresso_wrapper.session._run(simulation = sim, prefix = \"si\", command_type = \"pw.x\", calculation_type = \"bands\")\n",
    "quantum_espresso_wrapper.session._run(simulation = sim, prefix = \"si\", command_type = \"bands.x\", calculation_type = \"\")"
   ]
  },
  {
   "cell_type": "markdown",
   "metadata": {},
   "source": [
    "Although the cuds structure won't have changed much by this, the data is there in the folder.\n",
    "\n",
    "Now let's try to relax this cell. While it isn't a real cell, we can still perform the calculations to relax it to know what the movement of the atoms would be like if it were a real cell (warning, perform vc-relax type calculations with caution. These examples are designed to be lightweight and non-indicative of real-world applications)."
   ]
  },
  {
   "cell_type": "code",
   "execution_count": 14,
   "metadata": {
    "tags": []
   },
   "outputs": [
    {
     "output_type": "stream",
     "name": "stdout",
     "text": "si.pwrelax.in\npw.x -i si.pwrelax.in > si.pwrelax.out\n"
    }
   ],
   "source": [
    "quantum_espresso_wrapper.session._run(simulation = sim, prefix = \"si\", command_type = \"pw.x\", calculation_type = \"relax\", IONS = {'ion_dynamics': \"'bfgs'\"})"
   ]
  },
  {
   "cell_type": "code",
   "execution_count": 15,
   "metadata": {
    "tags": []
   },
   "outputs": [
    {
     "output_type": "stream",
     "name": "stdout",
     "text": "- Cuds object:\n  uuid: 6fd0b852-d5b1-41d3-9fd0-7860f7681f64\n  type: qe.Simulation\n  superclasses: cuba.Class, cuba.Entity, qe.Simulation\n  description: \n    All components of the simulation that are needed to run the model\n\n   |_Relationship qe.HAS_PART:\n     -  qe.BandsDat cuds object:\n     .  uuid: f2d3d219-506e-411e-97cc-d179243f1ff8\n     .  path: si.bands.dat\n     -  qe.Cell cuds object:\n     .  uuid: 6bcbceb0-51fe-4b31-8e38-f9f4d40cc5de\n     .   |_Relationship qe.HAS_PART:\n     .     -  qe.Atom cuds object:\n     .     .  uuid: 36665abe-cf83-46ca-8848-e17cdbcdecab\n     .     .   |_Relationship qe.HAS_PART:\n     .     .     -  qe.Force cuds object:\n     .     .     .  uuid: 963b849b-e61f-4992-8c7a-22dcc8b54362\n     .     .     .  vector: [0. 0. 0.]\n     .     .     .  unit: N\n     .     .     -  qe.Position cuds object:\n     .     .        uuid: 41f81d42-f7f2-4dc3-8430-5992db17a684\n     .     .        vector: [0. 0. 0.]\n     .     .        unit: kbar\n     .     -  qe.CellParams cuds object:\n     .     .  uuid: d865d0d8-153c-46ae-83ea-1f434dbfb60b\n     .     .   |_Relationship qe.HAS_PART:\n     .     .     -  qe.CellParameterX cuds object:\n     .     .     .  uuid: 13db9a63-afba-47f2-bdf1-7b0b67bfdbbf\n     .     .     .  vector: [0.5 0.5 0. ]\n     .     .     .  unit: \n     .     .     -  qe.CellParameterY cuds object:\n     .     .     .  uuid: a8de80c1-99c0-49a9-817f-f34d470113a9\n     .     .     .  vector: [0.5 0.  0.5]\n     .     .     .  unit: \n     .     .     -  qe.CellParameterZ cuds object:\n     .     .        uuid: 49be5d67-26dd-4331-8750-92ac435ae5cd\n     .     .        vector: [0.  0.5 0.5]\n     .     .        unit: \n     .     -  qe.Celldm1 cuds object:\n     .     .  uuid: 67836db3-e218-4c73-bce5-829209b156ba\n     .     .  value: 5.4307\n     .     .  unit: au\n     .     -  qe.Volume cuds object:\n     .        uuid: 8a2afd88-db78-4b85-bad7-8ec740a33c4f\n     .        value: 40.0412\n     .        unit: au^3\n     -  qe.Element cuds object named <Si>:\n     .  uuid: 877afad5-57b6-439b-aab9-e1704d49bc42\n     .   |_Relationship qe.HAS_PART:\n     .     -  qe.Atom cuds object:\n     .     .  uuid: 36665abe-cf83-46ca-8848-e17cdbcdecab\n     .     .  (already printed)\n     .     -  qe.Mass cuds object:\n     .     .  uuid: efd89293-e4d0-44a6-902b-26ecd4af73fa\n     .     .  value: 28.085\n     .     .  unit: amu\n     .     -  qe.PSEUDOPOTENTIAL cuds object named <Si.pbe-n-kjpaw_psl.1.0.0.UPF>:\n     .        uuid: 303a996e-a94c-4019-93aa-905a2f7aa59d\n     -  qe.K_POINTS cuds object:\n     .  uuid: db504805-6dce-4807-8df9-8a59dc8be553\n     .  unit: \n     .  vector6: [7. 7. 7. 0. 0. 0.]\n     -  qe.Outfile cuds object:\n     .  uuid: e0ec7743-225f-4e66-b4d6-4c037c716bcd\n     .  path: si.pwscf.out\n     -  qe.Outfile cuds object:\n     .  uuid: 8c04c5cc-36c3-4555-b6ad-86af3ac33aff\n     .  path: si.pwbands.out\n     -  qe.Outfile cuds object:\n     .  uuid: 6a5b76bc-fa63-4805-a47e-c4bca1250247\n     .  path: si.bands.out\n     -  qe.Outfile cuds object:\n     .  uuid: 5ea2ce14-c1a1-427e-b02f-793b151f0ee1\n     .  path: si.pwrelax.out\n     -  qe.Pressure cuds object:\n     .  uuid: 72cc785b-bb38-496a-86ab-c6084ac45c4c\n     .  value: 5723.64\n     .  unit: kbar\n     -  qe.StressTensor cuds object:\n     .  uuid: bc31ccdd-a7bd-4862-8e41-760b7aaa7037\n     .  unit: kbar\n     .  tensor2: [[5723.64    0.      0.  ]\n [   0.   5723.64    0.  ]\n [   0.      0.   5723.64]]\n     -  qe.TotalEnergy cuds object:\n        uuid: b90748f4-02d2-4057-97eb-b8a589d76737\n        value: -46.00727779\n        unit: Ry\n"
    }
   ],
   "source": [
    "pretty_print(sim)"
   ]
  },
  {
   "cell_type": "markdown",
   "metadata": {},
   "source": [
    "In this example, the position hasn't changed, since there's only one atom. So let's spice things up a little bit and add another atom, and then relax:"
   ]
  },
  {
   "cell_type": "code",
   "execution_count": 16,
   "metadata": {
    "tags": []
   },
   "outputs": [
    {
     "output_type": "stream",
     "name": "stdout",
     "text": "- Cuds object:\n  uuid: 6fd0b852-d5b1-41d3-9fd0-7860f7681f64\n  type: qe.Simulation\n  superclasses: cuba.Class, cuba.Entity, qe.Simulation\n  description: \n    All components of the simulation that are needed to run the model\n\n   |_Relationship qe.HAS_PART:\n     -  qe.BandsDat cuds object:\n     .  uuid: f2d3d219-506e-411e-97cc-d179243f1ff8\n     .  path: si.bands.dat\n     -  qe.Cell cuds object:\n     .  uuid: 6bcbceb0-51fe-4b31-8e38-f9f4d40cc5de\n     .   |_Relationship qe.HAS_PART:\n     .     -  qe.Atom cuds object:\n     .     .  uuid: 36665abe-cf83-46ca-8848-e17cdbcdecab\n     .     .   |_Relationship qe.HAS_PART:\n     .     .     -  qe.Force cuds object:\n     .     .     .  uuid: 963b849b-e61f-4992-8c7a-22dcc8b54362\n     .     .     .  vector: [0. 0. 0.]\n     .     .     .  unit: N\n     .     .     -  qe.Position cuds object:\n     .     .        uuid: 41f81d42-f7f2-4dc3-8430-5992db17a684\n     .     .        vector: [0. 0. 0.]\n     .     .        unit: kbar\n     .     -  qe.CellParams cuds object:\n     .     .  uuid: d865d0d8-153c-46ae-83ea-1f434dbfb60b\n     .     .   |_Relationship qe.HAS_PART:\n     .     .     -  qe.CellParameterX cuds object:\n     .     .     .  uuid: 13db9a63-afba-47f2-bdf1-7b0b67bfdbbf\n     .     .     .  vector: [0.5 0.5 0. ]\n     .     .     .  unit: \n     .     .     -  qe.CellParameterY cuds object:\n     .     .     .  uuid: a8de80c1-99c0-49a9-817f-f34d470113a9\n     .     .     .  vector: [0.5 0.  0.5]\n     .     .     .  unit: \n     .     .     -  qe.CellParameterZ cuds object:\n     .     .        uuid: 49be5d67-26dd-4331-8750-92ac435ae5cd\n     .     .        vector: [0.  0.5 0.5]\n     .     .        unit: \n     .     -  qe.Celldm1 cuds object:\n     .     .  uuid: 67836db3-e218-4c73-bce5-829209b156ba\n     .     .  value: 5.4307\n     .     .  unit: au\n     .     -  qe.Element cuds object named <Si>:\n     .     .  uuid: 877afad5-57b6-439b-aab9-e1704d49bc42\n     .     .   |_Relationship qe.HAS_PART:\n     .     .     -  qe.Atom cuds object:\n     .     .     .  uuid: 36665abe-cf83-46ca-8848-e17cdbcdecab\n     .     .     .  (already printed)\n     .     .     -  qe.Atom cuds object:\n     .     .     .  uuid: e343cb28-b360-418e-a009-4670873a87e3\n     .     .     .   |_Relationship qe.HAS_PART:\n     .     .     .     -  qe.Position cuds object:\n     .     .     .        uuid: 59b11524-cc66-4174-b538-38dc7d1802d5\n     .     .     .        vector: [0.25 0.25 0.26]\n     .     .     .        unit: \n     .     .     -  qe.Mass cuds object:\n     .     .     .  uuid: efd89293-e4d0-44a6-902b-26ecd4af73fa\n     .     .     .  value: 28.085\n     .     .     .  unit: amu\n     .     .     -  qe.PSEUDOPOTENTIAL cuds object named <Si.pbe-n-kjpaw_psl.1.0.0.UPF>:\n     .     .        uuid: 303a996e-a94c-4019-93aa-905a2f7aa59d\n     .     -  qe.Volume cuds object:\n     .        uuid: 8a2afd88-db78-4b85-bad7-8ec740a33c4f\n     .        value: 40.0412\n     .        unit: au^3\n     -  qe.Element cuds object named <Si>:\n     .  uuid: 877afad5-57b6-439b-aab9-e1704d49bc42\n     .  (already printed)\n     -  qe.K_POINTS cuds object:\n     .  uuid: db504805-6dce-4807-8df9-8a59dc8be553\n     .  unit: \n     .  vector6: [7. 7. 7. 0. 0. 0.]\n     -  qe.Outfile cuds object:\n     .  uuid: e0ec7743-225f-4e66-b4d6-4c037c716bcd\n     .  path: si.pwscf.out\n     -  qe.Outfile cuds object:\n     .  uuid: 8c04c5cc-36c3-4555-b6ad-86af3ac33aff\n     .  path: si.pwbands.out\n     -  qe.Outfile cuds object:\n     .  uuid: 6a5b76bc-fa63-4805-a47e-c4bca1250247\n     .  path: si.bands.out\n     -  qe.Outfile cuds object:\n     .  uuid: 5ea2ce14-c1a1-427e-b02f-793b151f0ee1\n     .  path: si.pwrelax.out\n     -  qe.Pressure cuds object:\n     .  uuid: 72cc785b-bb38-496a-86ab-c6084ac45c4c\n     .  value: 5723.64\n     .  unit: kbar\n     -  qe.StressTensor cuds object:\n     .  uuid: bc31ccdd-a7bd-4862-8e41-760b7aaa7037\n     .  unit: kbar\n     .  tensor2: [[5723.64    0.      0.  ]\n [   0.   5723.64    0.  ]\n [   0.      0.   5723.64]]\n     -  qe.TotalEnergy cuds object:\n        uuid: b90748f4-02d2-4057-97eb-b8a589d76737\n        value: -46.00727779\n        unit: Ry\n"
    }
   ],
   "source": [
    "Si2 = QE.Atom()\n",
    "Si2.add(QE.Position(vector = (0.25, 0.25, 0.26), unit = \"\"))\n",
    "SiCell.add(Si)\n",
    "Si.add(Si2)\n",
    "pretty_print(sim)"
   ]
  },
  {
   "cell_type": "code",
   "execution_count": 25,
   "metadata": {},
   "outputs": [
    {
     "output_type": "error",
     "ename": "TypeError",
     "evalue": "_run() missing 1 required positional argument: 'simulation'",
     "traceback": [
      "\u001b[0;31m---------------------------------------------------------------------------\u001b[0m",
      "\u001b[0;31mTypeError\u001b[0m                                 Traceback (most recent call last)",
      "\u001b[0;32m<ipython-input-25-8eda2c089407>\u001b[0m in \u001b[0;36m<module>\u001b[0;34m\u001b[0m\n\u001b[0;32m----> 1\u001b[0;31m \u001b[0mquantum_espresso_wrapper\u001b[0m\u001b[0;34m.\u001b[0m\u001b[0msession\u001b[0m\u001b[0;34m.\u001b[0m\u001b[0m_run\u001b[0m\u001b[0;34m(\u001b[0m\u001b[0mprefix\u001b[0m \u001b[0;34m=\u001b[0m \u001b[0;34m\"si\"\u001b[0m\u001b[0;34m,\u001b[0m \u001b[0mcommand_type\u001b[0m \u001b[0;34m=\u001b[0m \u001b[0;34m\"pw.x\"\u001b[0m\u001b[0;34m,\u001b[0m \u001b[0mcalculation_type\u001b[0m \u001b[0;34m=\u001b[0m \u001b[0;34m\"relax\"\u001b[0m\u001b[0;34m,\u001b[0m \u001b[0mIONS\u001b[0m \u001b[0;34m=\u001b[0m \u001b[0;34m{\u001b[0m\u001b[0;34m'ion_dynamics'\u001b[0m\u001b[0;34m:\u001b[0m \u001b[0;34m\"'bfgs'\"\u001b[0m\u001b[0;34m}\u001b[0m\u001b[0;34m)\u001b[0m\u001b[0;34m\u001b[0m\u001b[0;34m\u001b[0m\u001b[0m\n\u001b[0m\u001b[1;32m      2\u001b[0m \u001b[0mpretty_print\u001b[0m\u001b[0;34m(\u001b[0m\u001b[0msim\u001b[0m\u001b[0;34m)\u001b[0m\u001b[0;34m\u001b[0m\u001b[0;34m\u001b[0m\u001b[0m\n",
      "\u001b[0;31mTypeError\u001b[0m: _run() missing 1 required positional argument: 'simulation'"
     ]
    }
   ],
   "source": [
    "quantum_espresso_wrapper.session._run(simulation = sim, prefix = \"si\", command_type = \"pw.x\", calculation_type = \"relax\", IONS = {'ion_dynamics': \"'bfgs'\"})\n",
    "pretty_print(sim)"
   ]
  },
  {
   "cell_type": "code",
   "execution_count": null,
   "metadata": {},
   "outputs": [],
   "source": []
  }
 ]
}